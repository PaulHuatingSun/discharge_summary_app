{
 "cells": [
  {
   "cell_type": "code",
   "execution_count": null,
   "metadata": {},
   "outputs": [],
   "source": [
    "import json"
   ]
  },
  {
   "cell_type": "code",
   "execution_count": 1,
   "metadata": {},
   "outputs": [
    {
     "name": "stdout",
     "output_type": "stream",
     "text": [
      "JSON data loaded successfully into the 'data' variable.\n",
      "Type of 'data': <class 'dict'>\n",
      "First key-value pair in 'data': ('patient_id', '123456')\n"
     ]
    }
   ],
   "source": [
    "import json\n",
    "import os\n",
    "\n",
    "data_folder = 'data'\n",
    "file_name = 'data.json'\n",
    "file_path = os.path.join(data_folder, file_name)\n",
    "\n",
    "try:\n",
    "    with open(file_path, 'r') as f:\n",
    "        data = json.load(f)\n",
    "        print(\"JSON data loaded successfully into the 'data' variable.\")\n",
    "        # You can now work with the 'data' variable\n",
    "        # For example, print the type of 'data':\n",
    "        print(f\"Type of 'data': {type(data)}\")\n",
    "        # Or print the first few items if it's a list or dictionary:\n",
    "        if isinstance(data, list) and data:\n",
    "            print(f\"First item in 'data': {data[0]}\")\n",
    "        elif isinstance(data, dict) and data:\n",
    "            print(f\"First key-value pair in 'data': {list(data.items())[0]}\")\n",
    "\n",
    "except FileNotFoundError:\n",
    "    print(f\"Error: The file '{file_path}' was not found in the '{data_folder}' folder.\")\n",
    "except json.JSONDecodeError:\n",
    "    print(f\"Error: Could not decode the JSON from '{file_path}'. Check the file for errors.\")"
   ]
  },
  {
   "cell_type": "code",
   "execution_count": 3,
   "metadata": {},
   "outputs": [
    {
     "data": {
      "text/plain": [
       "{'patient_id': '123456',\n",
       " 'patient_demographics': {'name': 'John Doe',\n",
       "  'age': 70,\n",
       "  'gender': 'Male',\n",
       "  'admission_date': '2024-02-10',\n",
       "  'discharge_date': '2024-02-14'},\n",
       " 'diagnoses': [{'date': '2024-02-10',\n",
       "   'diagnosis_code': 'J18.1',\n",
       "   'description': 'Lobar pneumonia, unspecified organism'}],\n",
       " 'drg': {'code': '193',\n",
       "  'description': 'Simple pneumonia and pleurisy with MCC'},\n",
       " 'encounters': [{'date': '2024-02-10',\n",
       "   'type': 'Admission',\n",
       "   'reason': 'Cough, shortness of breath, hemoptysis, fever'},\n",
       "  {'date': '2024-02-14', 'type': 'Discharge'}],\n",
       " 'flowsheets': [{'date': '2024-02-10',\n",
       "   'time': '08:00',\n",
       "   'temperature': '38.5°C',\n",
       "   'heart_rate': '90 bpm',\n",
       "   'blood_pressure': '130/85 mmHg',\n",
       "   'respiratory_rate': '20 breaths/min',\n",
       "   'oxygen_saturation': '92%'},\n",
       "  {'date': '2024-02-11',\n",
       "   'time': '08:00',\n",
       "   'temperature': '37.8°C',\n",
       "   'heart_rate': '85 bpm',\n",
       "   'blood_pressure': '125/80 mmHg',\n",
       "   'respiratory_rate': '18 breaths/min',\n",
       "   'oxygen_saturation': '94%'},\n",
       "  {'date': '2024-02-12',\n",
       "   'time': '08:00',\n",
       "   'temperature': '37°C',\n",
       "   'heart_rate': '80 bpm',\n",
       "   'blood_pressure': '120/75 mmHg',\n",
       "   'respiratory_rate': '16 breaths/min',\n",
       "   'oxygen_saturation': '96%'},\n",
       "  {'date': '2024-02-13',\n",
       "   'time': '08:00',\n",
       "   'temperature': '36.5°C',\n",
       "   'heart_rate': '78 bpm',\n",
       "   'blood_pressure': '118/74 mmHg',\n",
       "   'respiratory_rate': '14 breaths/min',\n",
       "   'oxygen_saturation': '98%'}],\n",
       " 'imaging': [{'date': '2024-02-10',\n",
       "   'type': 'Chest X-Ray',\n",
       "   'findings': 'Consolidation in left lower lobe'}],\n",
       " 'labs': [{'date': '2024-02-10',\n",
       "   'tests': [{'name': 'CRP', 'result': '60 mg/L'},\n",
       "    {'name': 'WBC', 'result': '12 x10^9/L'},\n",
       "    {'name': 'Hemoglobin', 'result': '13.5 g/dL'},\n",
       "    {'name': 'Platelets', 'result': '250 x10^9/L'}]},\n",
       "  {'date': '2024-02-11',\n",
       "   'tests': [{'name': 'CRP', 'result': '50 mg/L'},\n",
       "    {'name': 'WBC', 'result': '11 x10^9/L'},\n",
       "    {'name': 'Hemoglobin', 'result': '13.3 g/dL'},\n",
       "    {'name': 'Platelets', 'result': '245 x10^9/L'}]},\n",
       "  {'date': '2024-02-12',\n",
       "   'tests': [{'name': 'CRP', 'result': '35 mg/L'},\n",
       "    {'name': 'WBC', 'result': '9 x10^9/L'},\n",
       "    {'name': 'Hemoglobin', 'result': '13.1 g/dL'},\n",
       "    {'name': 'Platelets', 'result': '240 x10^9/L'}]},\n",
       "  {'date': '2024-02-13',\n",
       "   'tests': [{'name': 'CRP', 'result': '20 mg/L'},\n",
       "    {'name': 'WBC', 'result': '7 x10^9/L'},\n",
       "    {'name': 'Hemoglobin', 'result': '13 g/dL'},\n",
       "    {'name': 'Platelets', 'result': '238 x10^9/L'}]}],\n",
       " 'med_orders': [{'date': '2024-02-10',\n",
       "   'medication': 'Amoxicillin IV',\n",
       "   'dose': '500 mg',\n",
       "   'frequency': '8 hourly'},\n",
       "  {'date': '2024-02-10', 'medication': 'Paracetamol', 'dose': 'PRN'},\n",
       "  {'date': '2024-02-11',\n",
       "   'medication': 'Amoxicillin IV',\n",
       "   'dose': '250 mg',\n",
       "   'frequency': 'Daily'},\n",
       "  {'date': '2024-02-11',\n",
       "   'medication': 'Atorvastatin PO',\n",
       "   'dose': '20 mg',\n",
       "   'frequency': 'Nightly'},\n",
       "  {'date': '2024-02-12',\n",
       "   'medication': 'Amoxicillin IV',\n",
       "   'dose': '250 mg',\n",
       "   'frequency': 'Daily'},\n",
       "  {'date': '2024-02-12',\n",
       "   'medication': 'Atorvastatin PO',\n",
       "   'dose': '20 mg',\n",
       "   'frequency': 'Nightly'},\n",
       "  {'date': '2024-02-13',\n",
       "   'medication': 'Amoxicillin PO',\n",
       "   'dose': '250 mg',\n",
       "   'frequency': 'Daily'},\n",
       "  {'date': '2024-02-13',\n",
       "   'medication': 'Atorvastatin PO',\n",
       "   'dose': '20 mg',\n",
       "   'frequency': 'Nightly'}],\n",
       " 'notes': [{'date': '2024-02-10',\n",
       "   'author': 'Dr. Smith',\n",
       "   'note_type': 'Admission Note',\n",
       "   'content': 'Patient admitted with symptoms indicative of pneumonia. Initiated empirical antibiotic therapy.'},\n",
       "  {'date': '2024-02-11',\n",
       "   'author': 'Dr. Smith',\n",
       "   'note_type': 'Ward Round Note',\n",
       "   'content': 'Patient shows signs of improvement. CRP levels declining. Continue with current antibiotic regimen. Monitor for any adverse reactions.'},\n",
       "  {'date': '2024-02-12',\n",
       "   'author': 'Dr. Smith',\n",
       "   'note_type': 'Ward Round Note',\n",
       "   'content': \"Patient's temperature normalized. Oxygen saturation levels stable. Plan to switch to oral antibiotics tomorrow.\"},\n",
       "  {'date': '2024-02-13',\n",
       "   'author': 'Dr. Smith',\n",
       "   'note_type': 'Ward Round Note',\n",
       "   'content': 'Patient continues to improve. CRP and WBC trending down. Ready for discharge planning.'},\n",
       "  {'date': '2024-02-14',\n",
       "   'author': 'Dr. Smith',\n",
       "   'note_type': 'Discharge Summary',\n",
       "   'content': \"Patient's condition improved with treatment. Medically fit for discharge. Home with instructions for oral antibiotics for 5 more days. Follow-up in outpatient clinic in two weeks.\"}]}"
      ]
     },
     "execution_count": 3,
     "metadata": {},
     "output_type": "execute_result"
    }
   ],
   "source": [
    "redacted = dict(data)\n",
    "redacted"
   ]
  },
  {
   "cell_type": "code",
   "execution_count": 4,
   "metadata": {},
   "outputs": [
    {
     "data": {
      "text/plain": [
       "'John Doe'"
      ]
     },
     "execution_count": 4,
     "metadata": {},
     "output_type": "execute_result"
    }
   ],
   "source": [
    "redacted[\"patient_demographics\"][\"name\"]"
   ]
  },
  {
   "cell_type": "code",
   "execution_count": 5,
   "metadata": {},
   "outputs": [],
   "source": [
    "def load_patient_data(filepath):\n",
    "    with open(filepath, \"r\") as f:\n",
    "        return json.load(f)"
   ]
  },
  {
   "cell_type": "code",
   "execution_count": 9,
   "metadata": {},
   "outputs": [
    {
     "name": "stderr",
     "output_type": "stream",
     "text": [
      "<>:2: SyntaxWarning: invalid escape sequence '\\d'\n",
      "<>:2: SyntaxWarning: invalid escape sequence '\\d'\n",
      "C:\\Users\\pauls\\AppData\\Local\\Temp\\ipykernel_24176\\3515653906.py:2: SyntaxWarning: invalid escape sequence '\\d'\n",
      "  patient_data = load_patient_data('data\\data.json')\n"
     ]
    }
   ],
   "source": [
    "# 🟢 Load the original (unredacted) patient data\n",
    "patient_data = load_patient_data('data\\data.json')"
   ]
  },
  {
   "cell_type": "code",
   "execution_count": 10,
   "metadata": {},
   "outputs": [],
   "source": [
    "demo = patient_data.get(\"patient_demographics\", {})"
   ]
  },
  {
   "cell_type": "code",
   "execution_count": 11,
   "metadata": {},
   "outputs": [
    {
     "data": {
      "text/plain": [
       "{'name': 'John Doe',\n",
       " 'age': 70,\n",
       " 'gender': 'Male',\n",
       " 'admission_date': '2024-02-10',\n",
       " 'discharge_date': '2024-02-14'}"
      ]
     },
     "execution_count": 11,
     "metadata": {},
     "output_type": "execute_result"
    }
   ],
   "source": [
    "demo"
   ]
  },
  {
   "cell_type": "code",
   "execution_count": 12,
   "metadata": {},
   "outputs": [
    {
     "data": {
      "text/plain": [
       "'John Doe'"
      ]
     },
     "execution_count": 12,
     "metadata": {},
     "output_type": "execute_result"
    }
   ],
   "source": [
    "demo.get('name')"
   ]
  }
 ],
 "metadata": {
  "kernelspec": {
   "display_name": "base",
   "language": "python",
   "name": "python3"
  },
  "language_info": {
   "codemirror_mode": {
    "name": "ipython",
    "version": 3
   },
   "file_extension": ".py",
   "mimetype": "text/x-python",
   "name": "python",
   "nbconvert_exporter": "python",
   "pygments_lexer": "ipython3",
   "version": "3.12.8"
  }
 },
 "nbformat": 4,
 "nbformat_minor": 2
}
